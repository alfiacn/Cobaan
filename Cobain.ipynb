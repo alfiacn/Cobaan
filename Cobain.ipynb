{
  "nbformat": 4,
  "nbformat_minor": 0,
  "metadata": {
    "colab": {
      "provenance": [],
      "authorship_tag": "ABX9TyOFNKcekIyt4F3bfzkHdJcd",
      "include_colab_link": true
    },
    "kernelspec": {
      "name": "python3",
      "display_name": "Python 3"
    },
    "language_info": {
      "name": "python"
    }
  },
  "cells": [
    {
      "cell_type": "markdown",
      "metadata": {
        "id": "view-in-github",
        "colab_type": "text"
      },
      "source": [
        "<a href=\"https://colab.research.google.com/github/alfiacn/Cobaan/blob/main/Cobain.ipynb\" target=\"_parent\"><img src=\"https://colab.research.google.com/assets/colab-badge.svg\" alt=\"Open In Colab\"/></a>"
      ]
    },
    {
      "cell_type": "code",
      "execution_count": null,
      "metadata": {
        "id": "4KEBmjg67BEM"
      },
      "outputs": [],
      "source": [
        "import pandas as pd #manipulasi data\n",
        "import numpy as np #memudahkan operasi komputasi untuk tipe data numerik\n",
        "import matplotlib.pyplot as plt #buat gambar, area plot\n",
        "import seaborn as sns #visualisasi data\n",
        "import scipy as sp #memecahkan masalah ilmiah pd mtk"
      ]
    },
    {
      "cell_type": "code",
      "source": [
        "# Download file\n",
        "\n",
        "from google.colab import files\n",
        "\n",
        "# e.g. save pandas output as csv\n",
        "df.to_csv('example.csv')\n",
        "\n",
        "# or any other file as usual\n",
        "# with open('example.csv', 'w') as f:\n",
        "#   f.write('your strings here')\n",
        "\n",
        "files.download('example.csv')"
      ],
      "metadata": {
        "id": "bLwnd0Dn7O6Z"
      },
      "execution_count": null,
      "outputs": []
    },
    {
      "cell_type": "code",
      "source": [
        "# Import Image\n",
        "from google.colab import files\n",
        "from IPython.display import Image\n",
        "uploaded = files.upload()"
      ],
      "metadata": {
        "id": "qYqJNtkd7RrP"
      },
      "execution_count": null,
      "outputs": []
    },
    {
      "cell_type": "code",
      "source": [
        "from google.colab import files\n",
        "uploades = files.upload()"
      ],
      "metadata": {
        "id": "Kv_AA3qK7XUA"
      },
      "execution_count": null,
      "outputs": []
    },
    {
      "cell_type": "code",
      "source": [
        "df_iris = pd.read_csv('IRIS.csv')"
      ],
      "metadata": {
        "id": "5XQmX-g17bEg"
      },
      "execution_count": null,
      "outputs": []
    },
    {
      "cell_type": "code",
      "source": [
        "# CORETAN IRIS\n",
        "# Distribusi Plot\n",
        "sns.distplot(df_iris['petal_length'], kde=False)\n",
        "plt.show()\n",
        "\n",
        "# Korelasi\n",
        "sns.jointplot(x='petal_length',y='petal_width', data=df_iris)\n",
        "\n",
        "# BOXPLOT untuk melihat pencilan\n",
        "sns.boxplot(x='species', y='petal_length', data=df_iris)\n",
        "plt.show()"
      ],
      "metadata": {
        "id": "2C2K2jc_7bjb"
      },
      "execution_count": null,
      "outputs": []
    },
    {
      "cell_type": "code",
      "source": [
        "# Kalo import csv\n",
        "df_data = pd.read_csv('namafile.csv', sep=';')\n",
        "df_data.head(5)\n",
        "df_data.tail()\n",
        "\n",
        "# tipe data\n",
        "df_data.dtypes"
      ],
      "metadata": {
        "id": "XR5HYf2B7e1p"
      },
      "execution_count": null,
      "outputs": []
    },
    {
      "cell_type": "code",
      "source": [
        "# Transpose data untuk data tipe integer, misal nama kolomnya 'absen'\n",
        "df_data.describe().transpose()\n",
        "\n",
        "# jumlah siswa\n",
        "sns.countplot(df_data['nama kolomnya']).set_title('Judulnya distribusi dari')\n",
        "plt.show()\n",
        "\n",
        "# identifikasi nilai tak wajar sebagai missing value\n",
        "df_data['nama kolom'] = df_data['nama kolom'].replace(0,np.nan)\n",
        "df_data.head()\n",
        "\n",
        "# cek missing value\n",
        "total = df_data.isnull().sum().sort_values(ascending = False)\n",
        "print(total)\n",
        "# bisa pake isnull() atau isna()\n",
        "# hapus missing value pake dropna()\n",
        "# mengetahui nilai unik unique()\n",
        "# kalo kolom cuma punya 1 nilai unik, bisa diapus pake drop()\n",
        "\n",
        "# Cek outlier dengan boxplot\n",
        "dataset = ['nama kolom 1','nama kolom 2']\n",
        "ax = sns.boxplot(data=df_data[dataset], orient=\"h\", pallete=\"Set2\")"
      ],
      "metadata": {
        "id": "AvbdB6iu7z-H"
      },
      "execution_count": null,
      "outputs": []
    }
  ]
}